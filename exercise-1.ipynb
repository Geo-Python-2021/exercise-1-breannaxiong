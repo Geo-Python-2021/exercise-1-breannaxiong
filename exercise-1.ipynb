{
 "cells": [
  {
   "cell_type": "code",
   "execution_count": 5,
   "id": "078f25d6",
   "metadata": {},
   "outputs": [],
   "source": [
    "ice_cream_rating = 10.0\n",
    "sleeping_rating = 9.5"
   ]
  },
  {
   "cell_type": "code",
   "execution_count": 6,
   "id": "090cc017",
   "metadata": {},
   "outputs": [
    {
     "name": "stdout",
     "output_type": "stream",
     "text": [
      "First Name Breanna\n",
      "Last Name Xiong\n",
      "Breanna Xiong\n"
     ]
    }
   ],
   "source": [
    "first_name = input('First Name ')\n",
    "last_name = input('Last Name ')\n",
    "my_name = first_name + ' ' + last_name\n",
    "print(my_name)"
   ]
  },
  {
   "cell_type": "code",
   "execution_count": 12,
   "id": "457ac2be",
   "metadata": {},
   "outputs": [
    {
     "name": "stdout",
     "output_type": "stream",
     "text": [
      "9.75\n"
     ]
    }
   ],
   "source": [
    "happiness_rating = (ice_cream_rating + sleeping_rating) / 2\n",
    "happiness_percent = happiness_rating * 10\n",
    "print(happiness_rating)"
   ]
  },
  {
   "cell_type": "code",
   "execution_count": 13,
   "id": "6a1e89bf",
   "metadata": {},
   "outputs": [
    {
     "name": "stdout",
     "output_type": "stream",
     "text": [
      "<class 'float'>\n",
      "<class 'str'>\n",
      "<class 'float'>\n"
     ]
    }
   ],
   "source": [
    "print(type(ice_cream_rating))\n",
    "print(type(first_name))\n",
    "print(type(happiness_rating))"
   ]
  },
  {
   "cell_type": "code",
   "execution_count": 14,
   "id": "0a716139",
   "metadata": {},
   "outputs": [
    {
     "name": "stdout",
     "output_type": "stream",
     "text": [
      "My name is Breanna and I give eating ice cream a score of 10.0 out of 10!\n",
      "I am Breanna Xiong and my sleeping enjoyment rating is 9.5  / 10!\n",
      "Based on the factors above, my happiness rating is 9.75 out of 10, or 97.5 %!\n"
     ]
    }
   ],
   "source": [
    "print('My name is', first_name, 'and I give eating ice cream a score of', ice_cream_rating, 'out of 10!')\n",
    "print('I am', my_name, 'and my sleeping enjoyment rating is', sleeping_rating, ' / 10!')\n",
    "print('Based on the factors above, my happiness rating is', happiness_rating, 'out of 10, or', happiness_percent, '%!')"
   ]
  },
  {
   "cell_type": "code",
   "execution_count": null,
   "id": "488ab25d",
   "metadata": {},
   "outputs": [],
   "source": []
  },
  {
   "cell_type": "code",
   "execution_count": null,
   "id": "88a97347",
   "metadata": {},
   "outputs": [],
   "source": []
  }
 ],
 "metadata": {
  "kernelspec": {
   "display_name": "Python 3 (ipykernel)",
   "language": "python",
   "name": "python3"
  },
  "language_info": {
   "codemirror_mode": {
    "name": "ipython",
    "version": 3
   },
   "file_extension": ".py",
   "mimetype": "text/x-python",
   "name": "python",
   "nbconvert_exporter": "python",
   "pygments_lexer": "ipython3",
   "version": "3.8.8"
  }
 },
 "nbformat": 4,
 "nbformat_minor": 5
}
